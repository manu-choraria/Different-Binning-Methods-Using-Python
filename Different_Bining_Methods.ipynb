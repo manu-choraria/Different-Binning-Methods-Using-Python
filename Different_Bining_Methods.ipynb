{
  "nbformat": 4,
  "nbformat_minor": 0,
  "metadata": {
    "colab": {
      "name": "Different Bining Methods.ipynb",
      "provenance": [],
      "collapsed_sections": [],
      "authorship_tag": "ABX9TyOhuw1gjlu4jg1Xoy92xaZN",
      "include_colab_link": true
    },
    "kernelspec": {
      "name": "python3",
      "display_name": "Python 3"
    },
    "language_info": {
      "name": "python"
    }
  },
  "cells": [
    {
      "cell_type": "markdown",
      "metadata": {
        "id": "view-in-github",
        "colab_type": "text"
      },
      "source": [
        "<a href=\"https://colab.research.google.com/github/manu-choraria/Different-Binning-Methods-Using-Python/blob/main/Different_Bining_Methods.ipynb\" target=\"_parent\"><img src=\"https://colab.research.google.com/assets/colab-badge.svg\" alt=\"Open In Colab\"/></a>"
      ]
    },
    {
      "cell_type": "code",
      "execution_count": null,
      "metadata": {
        "id": "KLu7E7CfOgeW"
      },
      "outputs": [],
      "source": [
        "#Import required Modules\n",
        "import numpy as np\n",
        "import math\n",
        "\n",
        "#Input Dataset\n",
        "dataset = [2,4,5,1,8,7,9,12,14,13,19,15]\n",
        "m=0\n",
        "\n",
        "#Sort Given Dataset\n",
        "b=np.sort(dataset)\n",
        "\n",
        "#Create four bins with all zeros inside it.\n",
        "bin=np.zeros((3,4))\n",
        "bin1=np.zeros((3,4))\n",
        "bin2=np.zeros((3,4))\n",
        "bin3=np.zeros((3,4))\n",
        "\n",
        "#To create equal bins\n",
        "for i in range (0,12,4):\n",
        "  k=int(i/4)\n",
        "  for j in range(4):\n",
        "    bin[k,j]=b[m];m=m+1\n",
        "print(\"Equal Bins: \\n\",bin)\n",
        "\n",
        "#To create Bins using mean\n",
        "for i in range (0,12,4):\n",
        "  k=int(i/4)\n",
        "  mean=(b[i] + b[i+1] + b[i+2] + b[i+3])/4\n",
        "  for j in range(4):\n",
        "    bin1[k,j]=mean\n",
        "print(\"Bin Mean: \\n\",bin1)\n",
        "\n",
        "#To create Bins using Boundaries  \n",
        "for i in range (0,12,4):\n",
        "  k=int(i/4)\n",
        "  for j in range (4):\n",
        "    if (b[i+j]-b[i]) < (b[i+3]-b[i+j]):\n",
        "      bin2[k,j]=b[i]\n",
        "    else:\n",
        "      bin2[k,j]=b[i+3]  \n",
        "print(\"Bin Boundaries: \\n\",bin2)\n",
        "\n",
        "#To Create Bins Using Median\n",
        "for i in range (0,12,4):\n",
        "  k=int(i/4)\n",
        "  for j in range (4):\n",
        "    bin3[k,j]=(b[i+1] + b[i+2])/2\n",
        "print(\"Bin Median: \\n\",bin3)"
      ]
    }
  ]
}